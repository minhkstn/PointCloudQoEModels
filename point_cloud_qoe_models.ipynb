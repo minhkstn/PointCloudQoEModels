{
 "cells": [
  {
   "attachments": {},
   "cell_type": "markdown",
   "metadata": {},
   "source": [
    "# Point Cloud QoE Models"
   ]
  },
  {
   "attachments": {},
   "cell_type": "markdown",
   "metadata": {},
   "source": [
    "## Joint Communication and Computational Resource Allocation for QoE-driven Point Cloud Video Streaming"
   ]
  },
  {
   "cell_type": "code",
   "execution_count": 2,
   "metadata": {},
   "outputs": [
    {
     "name": "stdout",
     "output_type": "stream",
     "text": [
      "0.3333333333333333\n"
     ]
    }
   ],
   "source": [
    "def get_distance_weight(g, k, d):\n",
    "    # p_g,k in equation (5)\n",
    "    # input: tile k in GOF g, distance d from the viewer to the object\n",
    "    # output: for simplicity: all tiles have the same distance as d.\n",
    "    return 1/d\n"
   ]
  },
  {
   "cell_type": "code",
   "execution_count": null,
   "metadata": {},
   "outputs": [],
   "source": [
    "def get_quality_weight(n, N):\n",
    "    # QT_g,k in equation (5)\n",
    "    # input: tile k in GOF g\n",
    "    # output: the ratio of # of points in the tile k (n) to the total # of points in FOV (N)\n",
    "    return n/N"
   ]
  },
  {
   "cell_type": "code",
   "execution_count": null,
   "metadata": {},
   "outputs": [],
   "source": [
    "def get_quality_contribution(g, k, d, r):\n",
    "    # output: quality contribution of tile k in GOF g with quality r at distance d\n",
    "    distance_weight = get_distance_weight(g, k, d)\n",
    "    quality_weight = get_quality_weight(n, N)\n",
    "\n",
    "    return distance_weight * r * quality_weight\n"
   ]
  },
  {
   "cell_type": "code",
   "execution_count": null,
   "metadata": {},
   "outputs": [],
   "source": [
    "def get_qoe_score (M, R, G, d):\n",
    "    sum_1 = 0\n",
    "    sum_2 = 0\n",
    "    for g in range(G):\n",
    "        for k in range(M):\n",
    "            r = 1\n",
    "            sum_1 += get_quality_contribution(g, k, d, r)\n",
    "            sum_2 += get_quality_contribution(g, k, d, r) * R/r\n",
    "\n",
    "    return sum_1/sum_2\n",
    "    "
   ]
  },
  {
   "attachments": {},
   "cell_type": "markdown",
   "metadata": {},
   "source": [
    "## Objective metrics for PC compression"
   ]
  },
  {
   "cell_type": "code",
   "execution_count": 5,
   "metadata": {},
   "outputs": [],
   "source": [
    "import re"
   ]
  },
  {
   "cell_type": "code",
   "execution_count": 28,
   "metadata": {},
   "outputs": [],
   "source": [
    "def calculate_avg_psnr(file):\n",
    "    psnr_y = []\n",
    "    psnr_cb = []\n",
    "    psnr_cr = []\n",
    "\n",
    "    with open(file) as f:\n",
    "        lines = f.readlines()\n",
    "\n",
    "        for line in lines:\n",
    "            value = line.split(\":\")\n",
    "            if len(value) > 1:\n",
    "                if \"c[0],PSNRF\" in line:\n",
    "                    psnr_y.append(float(value[1]))\n",
    "                    continue\n",
    "\n",
    "                if \"c[1],PSNRF\" in line:\n",
    "                    psnr_cb.append(float(value[1]))\n",
    "                    continue\n",
    "\n",
    "                if \"c[2],PSNRF\" in line:\n",
    "                    psnr_cr.append(float(value[1]))\n",
    "                    continue\n",
    "    \n",
    "    psnr_avg = 0\n",
    "    for y, cb, cr in zip(psnr_y, psnr_cb, psnr_cr):\n",
    "        psnr_avg += (4*y +cb + cr)/6\n",
    "\n",
    "    # print(\"PSNR: \", psnr_avg/len(psnr_y))\n",
    "    return psnr_avg/len(psnr_y)\n",
    "\n"
   ]
  },
  {
   "cell_type": "code",
   "execution_count": 29,
   "metadata": {},
   "outputs": [
    {
     "data": {
      "text/plain": [
       "29.12867409438891"
      ]
     },
     "execution_count": 29,
     "metadata": {},
     "output_type": "execute_result"
    }
   ],
   "source": [
    "file = \"/Users/minhkstn/Documents/SPIRIT/pc_metrics/mpeg-pcc-dmetric/longdress_r1.txt\"\n",
    "calculate_avg_psnr(file)"
   ]
  },
  {
   "cell_type": "code",
   "execution_count": 31,
   "metadata": {},
   "outputs": [
    {
     "data": {
      "text/plain": [
       "33.244228662166634"
      ]
     },
     "execution_count": 31,
     "metadata": {},
     "output_type": "execute_result"
    }
   ],
   "source": [
    "file = \"/Users/minhkstn/Documents/SPIRIT/pc_metrics/mpeg-pcc-dmetric/longdress_r3.txt\"\n",
    "calculate_avg_psnr(file)"
   ]
  },
  {
   "cell_type": "code",
   "execution_count": 32,
   "metadata": {},
   "outputs": [
    {
     "data": {
      "text/plain": [
       "37.86365088561109"
      ]
     },
     "execution_count": 32,
     "metadata": {},
     "output_type": "execute_result"
    }
   ],
   "source": [
    "file = \"/Users/minhkstn/Documents/SPIRIT/pc_metrics/mpeg-pcc-dmetric/longdress_r5.txt\"\n",
    "calculate_avg_psnr(file)"
   ]
  },
  {
   "cell_type": "code",
   "execution_count": 33,
   "metadata": {},
   "outputs": [
    {
     "data": {
      "text/plain": [
       "34.10684776905554"
      ]
     },
     "execution_count": 33,
     "metadata": {},
     "output_type": "execute_result"
    }
   ],
   "source": [
    "file = \"/Users/minhkstn/Documents/SPIRIT/pc_metrics/mpeg-pcc-dmetric/soldier_r1_single.txt\"\n",
    "calculate_avg_psnr(file)"
   ]
  },
  {
   "cell_type": "code",
   "execution_count": 35,
   "metadata": {},
   "outputs": [
    {
     "data": {
      "text/plain": [
       "38.02213302155559"
      ]
     },
     "execution_count": 35,
     "metadata": {},
     "output_type": "execute_result"
    }
   ],
   "source": [
    "file = \"/Users/minhkstn/Documents/SPIRIT/pc_metrics/mpeg-pcc-dmetric/soldier_r3_single.txt\"\n",
    "calculate_avg_psnr(file)"
   ]
  },
  {
   "cell_type": "code",
   "execution_count": 36,
   "metadata": {},
   "outputs": [
    {
     "data": {
      "text/plain": [
       "42.54009212388889"
      ]
     },
     "execution_count": 36,
     "metadata": {},
     "output_type": "execute_result"
    }
   ],
   "source": [
    "file = \"/Users/minhkstn/Documents/SPIRIT/pc_metrics/mpeg-pcc-dmetric/soldier_r5_single.txt\"\n",
    "calculate_avg_psnr(file)"
   ]
  },
  {
   "cell_type": "code",
   "execution_count": 37,
   "metadata": {},
   "outputs": [
    {
     "data": {
      "text/plain": [
       "36.216229541697885"
      ]
     },
     "execution_count": 37,
     "metadata": {},
     "output_type": "execute_result"
    }
   ],
   "source": [
    "file = \"/Users/minhkstn/Documents/SPIRIT/pc_metrics/mpeg-pcc-dmetric/loot_r1_single.txt\"\n",
    "calculate_avg_psnr(file)"
   ]
  },
  {
   "cell_type": "code",
   "execution_count": 39,
   "metadata": {},
   "outputs": [
    {
     "data": {
      "text/plain": [
       "40.26865833155558"
      ]
     },
     "execution_count": 39,
     "metadata": {},
     "output_type": "execute_result"
    }
   ],
   "source": [
    "file = \"/Users/minhkstn/Documents/SPIRIT/pc_metrics/mpeg-pcc-dmetric/loot_r3_single.txt\"\n",
    "calculate_avg_psnr(file)"
   ]
  },
  {
   "cell_type": "code",
   "execution_count": 40,
   "metadata": {},
   "outputs": [
    {
     "data": {
      "text/plain": [
       "44.67307994149996"
      ]
     },
     "execution_count": 40,
     "metadata": {},
     "output_type": "execute_result"
    }
   ],
   "source": [
    "file = \"/Users/minhkstn/Documents/SPIRIT/pc_metrics/mpeg-pcc-dmetric/loot_r5_single.txt\"\n",
    "calculate_avg_psnr(file)"
   ]
  },
  {
   "cell_type": "code",
   "execution_count": 41,
   "metadata": {},
   "outputs": [
    {
     "data": {
      "text/plain": [
       "33.382281832944436"
      ]
     },
     "execution_count": 41,
     "metadata": {},
     "output_type": "execute_result"
    }
   ],
   "source": [
    "file = \"/Users/minhkstn/Documents/SPIRIT/pc_metrics/mpeg-pcc-dmetric/redandblack_r1_single.txt\"\n",
    "calculate_avg_psnr(file)"
   ]
  },
  {
   "cell_type": "code",
   "execution_count": 42,
   "metadata": {},
   "outputs": [
    {
     "data": {
      "text/plain": [
       "36.86559818305554"
      ]
     },
     "execution_count": 42,
     "metadata": {},
     "output_type": "execute_result"
    }
   ],
   "source": [
    "file = \"/Users/minhkstn/Documents/SPIRIT/pc_metrics/mpeg-pcc-dmetric/redandblack_r3_single.txt\"\n",
    "calculate_avg_psnr(file)"
   ]
  },
  {
   "cell_type": "code",
   "execution_count": 43,
   "metadata": {},
   "outputs": [
    {
     "data": {
      "text/plain": [
       "40.92714999705555"
      ]
     },
     "execution_count": 43,
     "metadata": {},
     "output_type": "execute_result"
    }
   ],
   "source": [
    "file = \"/Users/minhkstn/Documents/SPIRIT/pc_metrics/mpeg-pcc-dmetric/redandblack_r5_single.txt\"\n",
    "calculate_avg_psnr(file)"
   ]
  },
  {
   "cell_type": "code",
   "execution_count": 46,
   "metadata": {},
   "outputs": [
    {
     "data": {
      "text/plain": [
       "<matplotlib.collections.PathCollection at 0x7f80914c1580>"
      ]
     },
     "execution_count": 46,
     "metadata": {},
     "output_type": "execute_result"
    },
    {
     "data": {
      "image/png": "[encoded data removed]",
      "text/plain": [
       "<Figure size 432x288 with 1 Axes>"
      ]
     },
     "metadata": {
      "needs_background": "light"
     },
     "output_type": "display_data"
    }
   ],
   "source": [
    "MOS = [4.53125, 6.90625, 7.53125, 4.21875, 5.96875, 7.03125]\n",
    "PSNR = [36.216229541697885, 40.26865833155558, 44.67307994149996, 29.12867409438891, 33.244228662166634, 37.86365088561109]\n",
    "\n",
    "import matplotlib.pyplot as plt\n",
    "\n",
    "plt.scatter(MOS, PSNR)\n"
   ]
  },
  {
   "cell_type": "code",
   "execution_count": 5,
   "metadata": {},
   "outputs": [
    {
     "name": "stdout",
     "output_type": "stream",
     "text": [
      "intercept: 2.640625\n",
      "slope: [0.42678571]\n"
     ]
    }
   ],
   "source": [
    "import numpy as np\n",
    "import matplotlib.pyplot as plt\n",
    "from sklearn.linear_model import LinearRegression\n",
    "\n",
    "x = np.array([1.25, 2.5, 5])\n",
    "\n",
    "# RedAndBlack\n",
    "y_1 = np.array([3.1875, 3.6875, 4.78125])\n",
    "model = LinearRegression()\n",
    "model.fit(x.reshape((-1,1)), y_1)\n",
    "print(f\"intercept: {model.intercept_}\")\n",
    "print(f\"slope: {model.coef_}\")\n",
    "# data = [, [5.03125, 5.84375, 6.625], [6.1875, 6.5, 7.21875]]"
   ]
  },
  {
   "cell_type": "code",
   "execution_count": 9,
   "metadata": {},
   "outputs": [
    {
     "name": "stdout",
     "output_type": "stream",
     "text": [
      "0.4267857142857146 2.6406249999999996\n"
     ]
    },
    {
     "data": {
      "text/plain": [
       "[<matplotlib.lines.Line2D at 0x7fe1c8b8e130>]"
      ]
     },
     "execution_count": 9,
     "metadata": {},
     "output_type": "execute_result"
    },
    {
     "data": {
      "image/png": "[encoded data removed]",
      "text/plain": [
       "<Figure size 432x288 with 1 Axes>"
      ]
     },
     "metadata": {
      "needs_background": "light"
     },
     "output_type": "display_data"
    }
   ],
   "source": [
    "a, b = np.polyfit(x, y_1, 1)\n",
    "print(a, b)\n",
    "plt.scatter(x, y_1)\n",
    "plt.plot(x, a*x+b)"
   ]
  },
  {
   "cell_type": "code",
   "execution_count": 11,
   "metadata": {},
   "outputs": [
    {
     "name": "stdout",
     "output_type": "stream",
     "text": [
      "0.40892857142857136 4.640625000000002\n"
     ]
    },
    {
     "data": {
      "text/plain": [
       "[<matplotlib.lines.Line2D at 0x7fe18837c3a0>]"
      ]
     },
     "execution_count": 11,
     "metadata": {},
     "output_type": "execute_result"
    },
    {
     "data": {
      "image/png": "[encoded data removed]",
      "text/plain": [
       "<Figure size 432x288 with 1 Axes>"
      ]
     },
     "metadata": {
      "needs_background": "light"
     },
     "output_type": "display_data"
    }
   ],
   "source": [
    "y_2 = np.array([5.03125, 5.84375, 6.625])\n",
    "a, b = np.polyfit(x, y_2,1)\n",
    "print(a, b)\n",
    "plt.scatter(x, y_2)\n",
    "plt.plot(x, a*x+b)"
   ]
  },
  {
   "cell_type": "code",
   "execution_count": 13,
   "metadata": {},
   "outputs": [
    {
     "name": "stdout",
     "output_type": "stream",
     "text": [
      "0.27678571428571463 5.828124999999998\n"
     ]
    },
    {
     "data": {
      "text/plain": [
       "[<matplotlib.lines.Line2D at 0x7fe1a06ec3d0>]"
      ]
     },
     "execution_count": 13,
     "metadata": {},
     "output_type": "execute_result"
    },
    {
     "data": {
      "image/png": "[encoded data removed]",
      "text/plain": [
       "<Figure size 432x288 with 1 Axes>"
      ]
     },
     "metadata": {
      "needs_background": "light"
     },
     "output_type": "display_data"
    }
   ],
   "source": [
    "y_3 = np.array([6.1875, 6.5, 7.21875])\n",
    "a,b = np.polyfit(x, y_3, 1)\n",
    "print(a,b)\n",
    "plt.scatter(x, y_3)\n",
    "plt.plot(x,a*x+b)"
   ]
  },
  {
   "cell_type": "code",
   "execution_count": 14,
   "metadata": {},
   "outputs": [
    {
     "name": "stdout",
     "output_type": "stream",
     "text": [
      "0.45892857142857146 1.6406250000000002\n"
     ]
    },
    {
     "data": {
      "text/plain": [
       "[<matplotlib.lines.Line2D at 0x7fe1e8690610>]"
      ]
     },
     "execution_count": 14,
     "metadata": {},
     "output_type": "execute_result"
    },
    {
     "data": {
      "image/png": "[encoded data removed]",
      "text/plain": [
       "<Figure size 432x288 with 1 Axes>"
      ]
     },
     "metadata": {
      "needs_background": "light"
     },
     "output_type": "display_data"
    }
   ],
   "source": [
    "# Soldier\n",
    "# [, [4.46875, 5.875, 6.34375], ]\n",
    "y_1 = np.array([2.21875, 2.78125, 3.9375])\n",
    "a,b = np.polyfit(x,y_1,1)\n",
    "print(a,b)\n",
    "plt.scatter(x,y_1)\n",
    "plt.plot(x,a*x+b)"
   ]
  },
  {
   "cell_type": "code",
   "execution_count": 15,
   "metadata": {},
   "outputs": [
    {
     "name": "stdout",
     "output_type": "stream",
     "text": [
      "0.4553571428571427 4.234375000000002\n"
     ]
    },
    {
     "data": {
      "text/plain": [
       "[<matplotlib.lines.Line2D at 0x7fe18847cdc0>]"
      ]
     },
     "execution_count": 15,
     "metadata": {},
     "output_type": "execute_result"
    },
    {
     "data": {
      "image/png": "[encoded data removed]",
      "text/plain": [
       "<Figure size 432x288 with 1 Axes>"
      ]
     },
     "metadata": {
      "needs_background": "light"
     },
     "output_type": "display_data"
    }
   ],
   "source": [
    "y_1 = np.array([4.46875, 5.875, 6.34375])\n",
    "a,b = np.polyfit(x,y_1,1)\n",
    "print(a,b)\n",
    "plt.scatter(x,y_1)\n",
    "plt.plot(x,a*x+b)"
   ]
  },
  {
   "cell_type": "code",
   "execution_count": 16,
   "metadata": {},
   "outputs": [
    {
     "name": "stdout",
     "output_type": "stream",
     "text": [
      "0.5267857142857145 5.078124999999998\n"
     ]
    },
    {
     "data": {
      "text/plain": [
       "[<matplotlib.lines.Line2D at 0x7fe1a8efc190>]"
      ]
     },
     "execution_count": 16,
     "metadata": {},
     "output_type": "execute_result"
    },
    {
     "data": {
      "image/png": "[encoded data removed]",
      "text/plain": [
       "<Figure size 432x288 with 1 Axes>"
      ]
     },
     "metadata": {
      "needs_background": "light"
     },
     "output_type": "display_data"
    }
   ],
   "source": [
    "y_1 = np.array([5.5, 6.75, 7.59375])\n",
    "a,b = np.polyfit(x,y_1,1)\n",
    "print(a,b)\n",
    "plt.scatter(x,y_1)\n",
    "plt.plot(x,a*x+b)"
   ]
  },
  {
   "cell_type": "code",
   "execution_count": null,
   "metadata": {},
   "outputs": [],
   "source": []
  }
 ],
 "metadata": {
  "kernelspec": {
   "display_name": "base",
   "language": "python",
   "name": "python3"
  },
  "language_info": {
   "codemirror_mode": {
    "name": "ipython",
    "version": 3
   },
   "file_extension": ".py",
   "mimetype": "text/x-python",
   "name": "python",
   "nbconvert_exporter": "python",
   "pygments_lexer": "ipython3",
   "version": "3.9.12"
  },
  "orig_nbformat": 4
 },
 "nbformat": 4,
 "nbformat_minor": 2
}
